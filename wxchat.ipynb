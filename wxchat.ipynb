{
 "cells": [
  {
   "cell_type": "code",
   "execution_count": 3,
   "metadata": {
    "collapsed": true
   },
   "outputs": [
    {
     "name": "stdout",
     "output_type": "stream",
     "text": [
      "█\r"
     ]
    },
    {
     "name": "stderr",
     "output_type": "stream",
     "text": [
      "Getting uuid of QR code.\n"
     ]
    },
    {
     "name": "stderr",
     "output_type": "stream",
     "text": [
      "Downloading QR code.\n"
     ]
    },
    {
     "name": "stderr",
     "output_type": "stream",
     "text": [
      "Please scan the QR code to log in.\n"
     ]
    },
    {
     "name": "stderr",
     "output_type": "stream",
     "text": [
      "Please press confirm on your phone.\n"
     ]
    },
    {
     "name": "stderr",
     "output_type": "stream",
     "text": [
      "Loading the contact, this may take a little while.\n"
     ]
    },
    {
     "name": "stderr",
     "output_type": "stream",
     "text": [
      "Login successfully as N_J_N\n"
     ]
    },
    {
     "name": "stderr",
     "output_type": "stream",
     "text": [
      "LOG OUT!\n"
     ]
    },
    {
     "name": "stderr",
     "output_type": "stream",
     "text": [
      "Please press confirm on your phone.\n"
     ]
    },
    {
     "name": "stderr",
     "output_type": "stream",
     "text": [
      "Loading the contact, this may take a little while.\n"
     ]
    },
    {
     "name": "stderr",
     "output_type": "stream",
     "text": [
      "Login successfully as N_J_N\n"
     ]
    },
    {
     "data": {
      "text/plain": [
       "<ItchatReturnValue: {'BaseResponse': {'RawMsg': '请求成功', 'Ret': 0, 'ErrMsg': '请求成功'}, 'LocalID': '15241288776621', 'MsgID': '1024603708816809810'}>"
      ]
     },
     "execution_count": 3,
     "metadata": {},
     "output_type": "execute_result"
    }
   ],
   "source": [
    "import itchat\n",
    "@itchat.msg_register(itchat.content.TEXT)\n",
    "def _(msg):\n",
    "    # equals to print(msg['FromUserName'])\n",
    "    print(msg.fromUserName)\n",
    "itchat.auto_login()\n",
    "itchat.auto_login(hotReload=True, enableCmdQR=True, )\n",
    "author = itchat.search_friends(nickName='Amis')[0]\n",
    "# author = itchat.search_friends(nickName='天柱山')[0]\n",
    "author.send('greeting, 女王大人!')\n",
    "# itchat.logout()"
   ]
  },
  {
   "cell_type": "code",
   "execution_count": 8,
   "metadata": {},
   "outputs": [],
   "source": [
    "\n",
    "def SentChatRoomsMsg(name, context):\n",
    "    itchat.get_chatrooms(update=True)\n",
    "    iRoom = itchat.search_chatrooms(name)\n",
    "    for room in iRoom:\n",
    "        if room['NickName'] == name:\n",
    "            userName = room['UserName']\n",
    "            break\n",
    "    test_context = \"发送时间：\" + datetime.now().strftime(\"%Y-%m-%d %H:%M:%S\") + \"\\n\" + \"发送到：\" + name + \"\\n\" +\\\n",
    "                                                                                   \"发送内容：\" + context + \"\\n\"\n",
    "    ans = itchat.send_msg(test_context, userName)\n",
    "    print(ans)\n",
    "    print(\"发送时间：\" + datetime.now().strftime(\"%Y-%m-%d %H:%M:%S\") + \"\\n\"\n",
    "                                                                   \"发送到：\" + name + \"\\n\"\n",
    "                                                                                   \"发送内容：\" + context + \"\\n\")\n",
    "    print(\"*********************************************************************************\")\n",
    "    # scheduler.print_jobs()"
   ]
  },
  {
   "cell_type": "code",
   "execution_count": null,
   "metadata": {},
   "outputs": [
    {
     "name": "stdout",
     "output_type": "stream",
     "text": [
      "{'BaseResponse': {'RawMsg': '请求成功', 'Ret': 0, 'ErrMsg': '请求成功'}, 'LocalID': '15241294171822', 'MsgID': '991168699090405608'}\n发送时间：2018-04-19 17:16:57\n发送到：自动消息测试群\n发送内容：<20180419-09:16:23.205, FIX.4.4:ESolution->CiticNewedge, incoming> (8=FIX.4.4\u00019=110\u000135=4\u000134=143\u000143=Y\u000149=CiticNewedge\u000152=20180419-09:17:21.109\u000156=ESolution\u0001122=20180419-09:17:21.109\u000136=147\u0001123=Y\u000110=052\u0001)\n\n*********************************************************************************\n"
     ]
    }
   ],
   "source": [
    "from datetime import datetime\n",
    "test_msg = '<20180419-09:16:23.205, FIX.4.4:ESolution->CiticNewedge, incoming> ' \\\n",
    "           '(8=FIX.4.4\u00019=110\u000135=4\u000134=143\u000143=Y\u000149=CiticNewedge\u0001' \\\n",
    "           '52=20180419-09:17:21.109\u000156=ESolution\u0001122=20180419-09:17:21.109\u0001' \\\n",
    "           '36=147\u0001123=Y\u000110=052\u0001)'.replace('\u0001', ' ')\n",
    "SentChatRoomsMsg('自动消息测试群', test_msg)"
   ]
  },
  {
   "cell_type": "code",
   "execution_count": 10,
   "metadata": {},
   "outputs": [
    {
     "name": "stdout",
     "output_type": "stream",
     "text": [
      "b'\\\\U0001f604'\n"
     ]
    }
   ],
   "source": [
    "print(u'\\U0001f604'.encode('unicode-escape')) "
   ]
  },
  {
   "cell_type": "code",
   "execution_count": 11,
   "metadata": {},
   "outputs": [
    {
     "name": "stdout",
     "output_type": "stream",
     "text": [
      "Python is 👍\n"
     ]
    }
   ],
   "source": [
    "import emoji\n",
    "print(emoji.emojize('Python is :thumbs_up:'))"
   ]
  },
  {
   "cell_type": "code",
   "execution_count": 13,
   "metadata": {},
   "outputs": [
    {
     "data": {
      "text/plain": [
       "<ItchatReturnValue: {'BaseResponse': {'RawMsg': '请求成功', 'Ret': 0, 'ErrMsg': '请求成功'}, 'LocalID': '15241292670255', 'MsgID': '7207691918470338993'}>"
      ]
     },
     "execution_count": 13,
     "metadata": {},
     "output_type": "execute_result"
    }
   ],
   "source": [
    "author = itchat.search_friends(nickName='Amis')[0]\n",
    "# author = itchat.search_friends(nickName='天柱山')[0]\n",
    "author.send(emoji.emojize('李碧雯 is :thumbs_up:'))"
   ]
  },
  {
   "cell_type": "code",
   "execution_count": null,
   "metadata": {},
   "outputs": [],
   "source": []
  }
 ],
 "metadata": {
  "kernelspec": {
   "display_name": "Python 2",
   "language": "python",
   "name": "python2"
  },
  "language_info": {
   "codemirror_mode": {
    "name": "ipython",
    "version": 2
   },
   "file_extension": ".py",
   "mimetype": "text/x-python",
   "name": "python",
   "nbconvert_exporter": "python",
   "pygments_lexer": "ipython2",
   "version": "2.7.6"
  }
 },
 "nbformat": 4,
 "nbformat_minor": 0
}
